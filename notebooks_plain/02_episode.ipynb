{
  "cells": [
    {
      "metadata": {
        "slideshow": {
          "slide_type": "slide"
        }
      },
      "cell_type": "markdown",
      "source": "# Basics of Testing"
    },
    {
      "metadata": {
        "slideshow": {
          "slide_type": "slide"
        }
      },
      "cell_type": "markdown",
      "source": "## Overview\n- **Teaching:** 5 min\n- **Exercises:** 0 min\n\n**Questions**\n- \tWhat are tests?\n\n**Objectives**\n- Understand what a test does.\n- Understand the place of testing in a scientific workflow.\n- Understand that testing has many forms."
    },
    {
      "metadata": {
        "slideshow": {
          "slide_type": "slide"
        }
      },
      "cell_type": "markdown",
      "source": "The first step toward getting the right answers from our programs is to assume that mistakes will happen and to guard against them. This is called **defensive programming** and the most common way to do it is to add alarms and tests into our code so that it checks itself.\n\n**Testing** should be a seamless part of scientific software development process. This is analogous to experiment design in the experimental science world:\n\n- At the beginning of a new project, tests can be used to help guide the overall architecture of the project.\n- The act of writing tests can help clarify how the software should be perform when you are done.\n- In fact, starting to write the tests before you even write the software might be advisable. (Such a practice is called test-driven development, which we will discuss today brieflt today but is covered in greater detail in [this episode](./11_episode.ipynb)."
    },
    {
      "metadata": {
        "slideshow": {
          "slide_type": "slide"
        }
      },
      "cell_type": "markdown",
      "source": "There are many ways to test software, such as:\n\n- Assertions\n- Exceptions\n- Unit Tests\n- Integration Tests\n- Regresson Tests"
    },
    {
      "metadata": {
        "slideshow": {
          "slide_type": "slide"
        }
      },
      "cell_type": "markdown",
      "source": "- **Exceptions and Assertions**: While writing code, exceptions and assertions can be added to sound an alarm as runtime problems come up. These kinds of tests, are embedded in the software iteself and handle, as their name implies, exceptional cases rather than the norm.\n\n- **Unit Tests**: Unit tests investigate the behavior of units of code (such as functions, classes, or data structures). By validating each software unit across the valid range of its input and output parameters, tracking down unexpected behavior that may appear when the units are combined is made vastly simpler.\n\n- *Integration Tests*: Integration tests check that various pieces of the software work together as expected.\n\n- *Regression Tests*: Regression tests defend against new bugs, or regressions, which might appear due to new software and updates."
    },
    {
      "metadata": {
        "slideshow": {
          "slide_type": "slide"
        }
      },
      "cell_type": "markdown",
      "source": "## Key Points\n- Tests check whether the observed result, from running the code, is what was expected ahead of time.\n- Tests can be written before the code they are testing is written (Test Driven Development), however some tests must be written after the code is written (e.g. Regression testing).\n- Assertions and exceptions are like alarm systems embedded in the software, guarding against exceptional bahavior.\n- Unit tests try to test the smallest pieces of code possible, usually functions and methods.\n- Integration tests make sure that code units work together properly.\n- Regression tests ensure that everything works the same today as it did yesterday."
    }
  ],
  "metadata": {
    "celltoolbar": "Slideshow",
    "kernelspec": {
      "name": "python3",
      "display_name": "Python 3",
      "language": "python"
    },
    "language_info": {
      "mimetype": "text/x-python",
      "nbconvert_exporter": "python",
      "name": "python",
      "pygments_lexer": "ipython3",
      "version": "3.5.4",
      "file_extension": ".py",
      "codemirror_mode": {
        "version": 3,
        "name": "ipython"
      }
    }
  },
  "nbformat": 4,
  "nbformat_minor": 2
}