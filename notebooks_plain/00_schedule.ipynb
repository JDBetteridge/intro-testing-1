{
  "cells": [
    {
      "metadata": {
        "slideshow": {
          "slide_type": "slide"
        }
      },
      "cell_type": "markdown",
      "source": "# Introduction to Testing (and Continuous Integration)\n\nIn this lesson we introduce the concept of testing, how it can help to improve the accuracy of your code and how to implement it efficiently using a Python library called `pytest`.\n\nThough some of this testing functionality is specific to python, the approach and principles are general and libraries/frameworks exist in most languages."
    },
    {
      "metadata": {
        "slideshow": {
          "slide_type": "slide"
        }
      },
      "cell_type": "markdown",
      "source": "## Prerequisites\n\nIn order to complete the tutorial and use the build system you should be familar with:\n- Basic understanding of Python variables and functions are a necessary prerequisite.\n- Some previous experience with the shell is expected."
    },
    {
      "metadata": {
        "slideshow": {
          "slide_type": "slide"
        }
      },
      "cell_type": "markdown",
      "source": "## Schedule\nApproximate timings for the lesson:\n\n| Time | Episode | Description |\n|---|---|---|\n| 0:00 | [Setup](./00_setup.ipynb) | Setup |\n| 0:05 | [Introduction](./01_episode.ipynb) | Why test? |\n| 0:10 | [Basics of Testing](./02_episode.ipynb) | What are tests? |\n| 0:15 | [Assertive Defensive Programming](./03_episode.ipynb) | How can we compare observed and expected values? |\n| 0:30 | [Revision of Functions in Scripts](./04_episode.ipynb) | How can we put our new assertions into a scipt that we can run or import? |\n| 1:00 | [Exceptional Defensive Programming](./05_episode.ipynb) | How do I handle unusual behavior while the code runs?|\n| 1:15 | [Unit Tests](./06_episode.ipynb) | What is a unit of code? |\n| 1:30 | [Running Tests with pytest](./07_episode.ipynb) | How do I automate my tests? |\n| 1:45 | [Edge and Corner Cases](./08_episode.ipynb) | How do I catch all the possible errors? |\n| 2:05 | [Integration and Regression Tests](./09_episode.ipynb) | How do we test more than a single unit of software? |\n| 2:15 | [Continuous Integration](./10_episode.ipynb) | How can I automate running the tests on more platforms than my own? | \n| 2:40 | [Test Driven Development](./11_episode.ipynb) | How do you make testing part of the code writing process? |"
    }
  ],
  "metadata": {
    "celltoolbar": "Slideshow",
    "kernelspec": {
      "name": "python3",
      "display_name": "Python 3",
      "language": "python"
    },
    "language_info": {
      "mimetype": "text/x-python",
      "nbconvert_exporter": "python",
      "name": "python",
      "pygments_lexer": "ipython3",
      "version": "3.5.4",
      "file_extension": ".py",
      "codemirror_mode": {
        "version": 3,
        "name": "ipython"
      }
    }
  },
  "nbformat": 4,
  "nbformat_minor": 2
}