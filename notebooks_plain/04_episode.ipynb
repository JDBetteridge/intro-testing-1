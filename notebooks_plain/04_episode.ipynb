{
  "cells": [
    {
      "metadata": {
        "slideshow": {
          "slide_type": "slide"
        }
      },
      "cell_type": "markdown",
      "source": "# Revision of Functions in Scripts"
    },
    {
      "metadata": {
        "slideshow": {
          "slide_type": "slide"
        }
      },
      "cell_type": "markdown",
      "source": "## Overview\n- **Teaching:** 15 min\n- **Exercises:** 15 min\n\n**Questions**\n- How can we put our new assertions into a scipt that we can run or import?\n\n**Objectives**\n- Revise how to define a function in a script.\n- Recall how to use docstrings to auto-document your functions.\n- Know how to call the function within a script.\n- Know how to make a script importable."
    },
    {
      "metadata": {
        "slideshow": {
          "slide_type": "slide"
        }
      },
      "cell_type": "markdown",
      "source": "In the previous lesson we wrote our function with its assertion in `notebooks`. As we have discussed previously, it is much more useful to write these as a script which we can then call, or in the case of libraries import. In this lesson we will write our mean function as a script and revise how to display documentation and call the function.  We will then expore how to include our own libraries within other scripts revise why it is good practice to include the main part of the script in its own function.\n\nIf you have not already created a directory `my_testing` in your `intro-testing` directory, do so and `cd` into it. Then create a new file called `mean.py`.  You are free to use the editor of your choice, e.g. `nano` or others on `linux`, or use the notebooks text editor. \n\nNote that this will not be available on remote linux machines so you should be confident to use editors like `nano` if required."
    },
    {
      "metadata": {
        "slideshow": {
          "slide_type": "slide"
        }
      },
      "cell_type": "markdown",
      "source": "## Writing Scripts\n\nEdit your new file `mean.py` so that it reads:\n\n```python\ndef mean(sample):\n    '''\n    Takes a list of numbers, sample\n\n    and returns the mean.\n    '''\n\n    assert len(sample) != 0, \"Unable to take the mean of an empty list\"\n    for value in sample:\n        assert isinstance(value,int) or isinstance(value,float), \"Value in list is not a number.\"\n    sample_mean = sum(sample) / len(sample)\n    return sample_mean\n\nnumbers = [1, 2, 3, 4, 5]\n\nprint( mean(numbers) )\n\nno_numbers = []\n\nprint( mean(no_numbers) )\n\nword_and_numbers = [1, 2, 3, 4, \"apple\"]\n\nprint( mean(word_and_numbers) )\n```"
    },
    {
      "metadata": {
        "slideshow": {
          "slide_type": "slide"
        }
      },
      "cell_type": "markdown",
      "source": "Finally we can execute our script, you can do this form the terminal but we will run from within notebooks as we did before.  in your library, navigate to the folder containing your `mean.py` file and luanch a new notebook:\n```python\n%%run mean.py\n```\n\nYou should see an output that looks like:\n```brainfuck\nTraceback (most recent call last):\n  File \"./mean.py\", line 22, in <module>\n    mean(no_numbers)\n  File \"./mean.py\", line 10, in mean\n    assert len(sample) != 0, \"Unable to take the mean of an empty list\"\nAssertionError: Unable to take the mean of an empty list\n```"
    },
    {
      "metadata": {
        "slideshow": {
          "slide_type": "slide"
        }
      },
      "cell_type": "markdown",
      "source": "Our scripts executes each of line of code in turn and stops when it reaches the first `AssertionError`, even though this is how we intend the program to execture, Python doesn't know this and it means that it does not yet run the third of our tests.  We will learn how we can run multiple tests, and encapsulate them in successful tests even if they intentionally raise errors.\n\nNow we want to explore our script in a little more detail.  Remember in our previous lesson we `import`ed libraries into our interactive session.  Let's see what happens when we do this with our new script.  Let's try to import `mean.py` as a library:\n\n```python\nimport mean\n3.0\n---------------------------------------------------------------------------\nAssertionError                            Traceback (most recent call last)\n<ipython-input-1-330bb4995352> in <module>\n----> 1 import mean\n\n/home/rjg20/training/arc-training/intro-testing/mean.py in <module>\n     20 no_numbers = []\n     21\n---> 22 print( mean(no_numbers) )\n     23\n     24 word_and_numbers = [1, 2, 3, 4, \"apple\"]\n\n/home/rjg20/training/arc-training/intro-testing/mean.py in mean(sample)\n      8     '''\n      9\n---> 10     assert len(sample) != 0, \"Unable to take the mean of an empty list\"\n     11     for value in sample:\n     12         assert isinstance(value,int) or isinstance(value,float), \"Value in list is not a number.\"\n\nAssertionError: Unable to take the mean of an empty list\n```"
    },
    {
      "metadata": {
        "slideshow": {
          "slide_type": "slide"
        }
      },
      "cell_type": "markdown",
      "source": "## The Scope of a Script\n\nWhat we would like to do is change the behaviour of our program so that the functions when it is imported, but the remainder  of the scripts only executes when we run it from the command line.  This is called limiting the scope of the script, open your script and edit it so that it reads:\n\n```python\ndef mean(sample):\n    '''\n    Takes a list of numbers, sample\n\n    and returns the mean.\n    '''\n\n    assert len(sample) != 0, \"Unable to take the mean of an empty list\"\n    for value in sample:\n        assert isinstance(value,int) or isinstance(value,float), \"Value in list is not a number.\"\n    sample_mean = sum(sample) / len(sample)\n    return sample_mean\n\ndef main():\n    numbers = [1, 2, 3, 4, 5]\n\n    print( mean(numbers) )\n\n    no_numbers = []\n\n    print( mean(no_numbers) )\n\n    word_and_numbers = [1, 2, 3, 4, \"apple\"]\n\n    print( mean(word_and_numbers) )\n    \nif __name__ == '__main__':\n    main()\n```\n\nNow run this as a script and also try importing it in ipython. __name__ determines the scope of a script, if it is run as a script it is set to ‘main’, but not when it is imported, allowing the behaviour to be different in the two cases. You can find out more here."
    },
    {
      "metadata": {
        "slideshow": {
          "slide_type": "slide"
        }
      },
      "cell_type": "markdown",
      "source": "## Exercise: Update the documentation\nWe have some documentation in the `mean` function but this could be improved to give more details on the functions behaviour, and there is no documentation for our main function.\n\nAdd appropriate documentation and verify that it works correctly."
    },
    {
      "metadata": {
        "slideshow": {
          "slide_type": "slide"
        }
      },
      "cell_type": "markdown",
      "source": "## Solution: Update the documentation\n\n```python\ndef mean(num_list):\n    ''' \n    Function to calculate the mean of a list of numbers\n    \n    Usage: mean(list_of_numbers)\n    \n    Checks that length of list is not 0, else raises assertion error.\n    Checks that all items are ints of floats, else raises assertion error.\n    \n    returns sum(list_of_numbers)/len(list_of_numbers)\n    '''\n\n    assert len(sample) != 0, \"Unable to take the mean of an empty list\"\n    for value in sample:\n        assert isinstance(value,int) or isinstance(value,float), \"Value in list is not a number.\"\n    sample_mean = sum(sample) / len(sample)\n    return sample_mean\n\ndef main():\n    ''' \n    Simple check of mean(num_list):\n    calls mean on:\n    numbers = [1, 2, 3, 4, 5],\n    returning the mean, 3.0\n    nonumbers = [], empty list\n    which causes an assertion error\n    word_and_numbers = [1, 2, 3, 4, \"apple\"], string in list\n    which would raise assertion error is executed \n    '''\n\n    numbers = [1, 2, 3, 4, 5]\n\n    print(mean(numbers))\n\n    nonumbers = []\n\n    print(mean(nonumbers))\n    \n    word_and_numbers = [1, 2, 3, 4, \"apple\"]\n\n    print( mean(word_and_numbers) )\n    \n\nif __name__ == '__main__':\n    main()\n    \n```\n\nCheck that your documentation is working correctly by importing the script in ipython3 and running help(my_script)."
    },
    {
      "metadata": {
        "slideshow": {
          "slide_type": "slide"
        }
      },
      "cell_type": "markdown",
      "source": "## Exercise: What is missing?\n\nYou are putting your code into scripts, preserving the code and enabling it’s re-use. You are developing tests allowing you to help demonstrate that the code is working as in tended. And you have documented your code so that you and other users can make use of the code in the future, But what have we forgotten?"
    },
    {
      "metadata": {
        "slideshow": {
          "slide_type": "slide"
        }
      },
      "cell_type": "markdown",
      "source": "## Solution: What is missing?\n\nVersion Control!\n\nIn the directory containing your new script initialise a new git repository and add the script to it.\n```bash\n% git init\nInitialised empty Git repository in /u/q/rjg20/intro-testing/my_testing/.git/\n% git add mean.py\n% git commit -m \"Intiailised repository, a little late but with code, test and documentation\"\n[master (root-commit) c01f726] Intiailised repository, a little late but with code, test and documentation\n1 files changed, 29 insertions(+)\ncreate mode 100644 mean.py\n```\n\nDon’t forget to keep the repository upto date as we progress this lesson!"
    },
    {
      "metadata": {
        "slideshow": {
          "slide_type": "slide"
        }
      },
      "cell_type": "markdown",
      "source": "## Key Points\n- Writing functions in scripts makes reusable\n- Documenting your functions is essential to make them re-usable\n- All code in a script is executed by default.\n- Specify a ‘main’ function which is only executed when run as a script.\n- The ‘script’ can then be imported as any other python library."
    }
  ],
  "metadata": {
    "celltoolbar": "Slideshow",
    "kernelspec": {
      "name": "python3",
      "display_name": "Python 3",
      "language": "python"
    },
    "language_info": {
      "mimetype": "text/x-python",
      "nbconvert_exporter": "python",
      "name": "python",
      "pygments_lexer": "ipython3",
      "version": "3.5.4",
      "file_extension": ".py",
      "codemirror_mode": {
        "version": 3,
        "name": "ipython"
      }
    }
  },
  "nbformat": 4,
  "nbformat_minor": 2
}