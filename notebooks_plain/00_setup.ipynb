{
  "cells": [
    {
      "metadata": {
        "slideshow": {
          "slide_type": "slide"
        }
      },
      "cell_type": "markdown",
      "source": "# Setup"
    },
    {
      "metadata": {
        "slideshow": {
          "slide_type": "subslide"
        }
      },
      "cell_type": "markdown",
      "source": "Using [notebooks.azure.com](https://notebooks.azure.com) clone the [library](https://notebooks.azure.com/jgrant/projects/intro-testing) for this lesson.\n\nWe need to prepare the library for the lesson.  First launch a terminal from notebooks (see: https://arc-lessons.github.io/intro-linux/02_linux_bath.html) and navigate to the directory containing the necessary files with:\n```bash\n% cd library/data\n```\n\nNow we need to `unzip` the files in the folder.  We can do this with:\n```bash\n% unzip testing_codes.zip\n```\n\nafter doing this should end up with a new folder called code, you can verify this with `ls`.  To get started, create a new directory my_testing and change into it with:\n```bash\n% mkdir my_testing\n% cd my_testing\n```"
    },
    {
      "metadata": {
        "slideshow": {
          "slide_type": "slide"
        }
      },
      "cell_type": "markdown",
      "source": "## Alternative Setup\n\nIf you are not using notebooks.azure.com then in preparation for this lesson, you will need to download two zipped files and place them in the specified folder:\n\n1. Make a new folder in your working directory, the H-drive, called intro-testing.\n2. Download [testing_codes.zip](../data/testing_codes.zip) and move the file to this folder.\n3. Download [solutions.zip](../data/solutions.zip) and move the file to this folder.\n\nThese files are zipped (to make it faster to download) so need to be unzipped. Open your linux terminal, e.g. `linux.bath.ac.uk` through xming, navigate to the directory containing the file you downloaded and unzip it using the following commands:\n\n```bash\n% cd intro-testing/\n% unzip testing_codes.zip\n```\n\nYou should end up with a new folder called code.  To get started, create a new directory my_testing and change into it with:\n```bash\n% mkdir my_testing\n% cd my_testing\n```\n\nWe will be using the IPython interpreter for this lesson, on linux.bath.ac.uk this is launched by typing the command:\n\n```bash\n% ipython3\n```\n\nThis Python interpreter can be installed on your own computer using this link [install Anaconda](http://swcarpentry.github.io/workshop-template/#python). This also includes the Jupyter notebook functionality  an exciting way of producing reproducible data analysis."
    }
  ],
  "metadata": {
    "celltoolbar": "Slideshow",
    "kernelspec": {
      "name": "python3",
      "display_name": "Python 3",
      "language": "python"
    },
    "language_info": {
      "mimetype": "text/x-python",
      "nbconvert_exporter": "python",
      "name": "python",
      "file_extension": ".py",
      "version": "3.5.4",
      "pygments_lexer": "ipython3",
      "codemirror_mode": {
        "version": 3,
        "name": "ipython"
      }
    }
  },
  "nbformat": 4,
  "nbformat_minor": 2
}